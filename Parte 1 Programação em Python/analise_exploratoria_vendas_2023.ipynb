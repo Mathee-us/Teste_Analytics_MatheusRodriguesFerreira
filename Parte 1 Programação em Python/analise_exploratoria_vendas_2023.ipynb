{
 "cells": [
  {
   "metadata": {},
   "cell_type": "markdown",
   "source": "# Análise Exploratória de Dados de Vendas em 2023",
   "id": "20b325ebc93c4bac"
  },
  {
   "metadata": {},
   "cell_type": "markdown",
   "source": [
    "## Introdução\n",
    "- Objetivo do trabalho: Analisar as vendas de 2023 para identificar padrões e insights que possam orientar decisões estratégicas.\n",
    "- Descrição dos dados: Dados de vendas simulados para o ano de 2023, incluindo informações sobre produtos, categorias, quantidades e preços.\n"
   ],
   "id": "ba41be53b457902b"
  },
  {
   "metadata": {},
   "cell_type": "markdown",
   "source": [
    "## 1. Limpeza e Preparação dos Dados\n",
    "- Importação dos dados: Carregamento dos dados e bibliotecas necessárias."
   ],
   "id": "77eef15b90ef8232"
  },
  {
   "metadata": {
    "ExecuteTime": {
     "end_time": "2024-11-24T13:38:51.909874Z",
     "start_time": "2024-11-24T13:38:51.903573Z"
    }
   },
   "cell_type": "code",
   "source": [
    "import pandas as pd\n",
    "import numpy as np\n",
    "import random\n",
    "import matplotlib.pyplot as plt\n",
    "import seaborn as sns\n"
   ],
   "id": "f2cff60e8868482c",
   "outputs": [],
   "execution_count": 1
  },
  {
   "metadata": {
    "ExecuteTime": {
     "end_time": "2024-11-24T13:38:51.997736Z",
     "start_time": "2024-11-24T13:38:51.946044Z"
    }
   },
   "cell_type": "code",
   "source": [
    "# Definindo os parâmetros\n",
    "num_dados = 500\n",
    "data_range = pd.date_range(start='2023-01-01', end='2023-12-31', freq='D')\n",
    "produtos = ['Produto A', 'Produto B', 'Produto C', 'Produto D', 'Produto E', 'Produto F']\n",
    "categorias = ['Categoria 1', 'Categoria 2', 'Categoria 3']\n",
    "\n",
    "# Gerando os dados\n",
    "np.random.seed(2)  # Para reprodutibilidade\n",
    "random.seed(2)\n",
    "\n",
    "dados = []\n",
    "\n",
    "for i in range(num_dados):\n",
    "    data = random.choice(data_range)\n",
    "    quantidade = random.randint(1, 20)\n",
    "    categoria = random.choice(categorias)\n",
    "    preco = round(random.uniform(10.0, 100.0), 2)\n",
    "\n",
    "    # Aumentar as vendas em novembro e dezembro\n",
    "    if data.month in [11, 12]:\n",
    "        quantidade *= 2  # Dobrar a quantidade, pois na Black Friday e Natal as vendas aumentam\n",
    "    \n",
    "    # Fazer com que cada produto pertença a uma categoria específica,ou seja o mesmo produto não pode estar em categorias diferentes. Pois imagino que cada produto pertença a uma categoria específica, por exemplo, um produto de limpeza não pode estar na categoria de alimentos.\n",
    "    if categoria == categorias[0]:\n",
    "        produto =  random.choice(produtos[:2])\n",
    "    elif categoria == categorias[1]:\n",
    "        produto =  random.choice(produtos[2:4])\n",
    "    else:\n",
    "        produto =  random.choice(produtos[4:])\n",
    "        \n",
    "    dados.append([i, data, produto, categoria, quantidade, preco])\n",
    "\n",
    "# Cria o DataFrame\n",
    "df = pd.DataFrame(dados, columns=['ID', 'Data', 'Produto', 'Categoria', 'Quantidade', 'Preço'])\n"
   ],
   "id": "29175776982d68f",
   "outputs": [],
   "execution_count": 2
  },
  {
   "metadata": {},
   "cell_type": "markdown",
   "source": "#### Adicionando valores faltantes para poder exemplificar a limpeza",
   "id": "3a95da4ec8f67a50"
  },
  {
   "metadata": {
    "ExecuteTime": {
     "end_time": "2024-11-24T13:38:52.052956Z",
     "start_time": "2024-11-24T13:38:52.030678Z"
    }
   },
   "cell_type": "code",
   "source": [
    "df.loc[5, 'Produto'] = np.nan\n",
    "df.loc[10, 'Quantidade'] = np.nan\n",
    "df.loc[15, 'Preço'] = np.nan\n",
    "df.loc[20, 'Categoria'] = np.nan\n",
    "df.loc[25, 'Data'] = np.nan\n",
    "\n",
    "#quantidade de dados nulos\n",
    "df.isnull().sum()"
   ],
   "id": "d5c9972070f40e2a",
   "outputs": [
    {
     "data": {
      "text/plain": [
       "ID            0\n",
       "Data          1\n",
       "Produto       1\n",
       "Categoria     1\n",
       "Quantidade    1\n",
       "Preço         1\n",
       "dtype: int64"
      ]
     },
     "execution_count": 3,
     "metadata": {},
     "output_type": "execute_result"
    }
   ],
   "execution_count": 3
  },
  {
   "metadata": {},
   "cell_type": "markdown",
   "source": "#### Tratamento de valores faltantes: Substituição de valores nulos por medidas apropriadas.",
   "id": "135d23578ec5f284"
  },
  {
   "metadata": {
    "ExecuteTime": {
     "end_time": "2024-11-24T13:38:52.990491Z",
     "start_time": "2024-11-24T13:38:52.965655Z"
    }
   },
   "cell_type": "code",
   "source": [
    "# Remover linhas onde Produto ou Data são nulos\n",
    "df = df.dropna(subset=['Produto', 'Data'])\n",
    "\n",
    "# Preencher valores faltantes em Quantidade com a média\n",
    "df['Quantidade'] = df['Quantidade'].fillna(df['Quantidade'].mean())\n",
    "\n",
    "# Preencher valores faltantes em Preço com a média\n",
    "df['Preço'] = df['Preço'].fillna(df['Preço'].mean())\n",
    "\n",
    "# Preencher valores faltantes em Categoria com Não informado\n",
    "df['Categoria'] = df['Categoria'].fillna('Não informado')\n",
    "\n",
    "# Remoção de duplicatas\n",
    "df = df.drop_duplicates()\n",
    "\n",
    "#quantidade de dados nulos\n",
    "df.isnull().sum()"
   ],
   "id": "2b9745e34449bc0e",
   "outputs": [
    {
     "data": {
      "text/plain": [
       "ID            0\n",
       "Data          0\n",
       "Produto       0\n",
       "Categoria     0\n",
       "Quantidade    0\n",
       "Preço         0\n",
       "dtype: int64"
      ]
     },
     "execution_count": 4,
     "metadata": {},
     "output_type": "execute_result"
    }
   ],
   "execution_count": 4
  },
  {
   "metadata": {},
   "cell_type": "markdown",
   "source": "#### conversão de tipos",
   "id": "6e01fbcd903dbc5e"
  },
  {
   "metadata": {
    "ExecuteTime": {
     "end_time": "2024-11-24T13:38:53.240937Z",
     "start_time": "2024-11-24T13:38:53.205340Z"
    }
   },
   "cell_type": "code",
   "source": [
    "df['ID'] = df['ID'].astype(int)\n",
    "df['Quantidade'] = df['Quantidade'].astype(int)\n",
    "df['Preço'] = df['Preço'].astype(float)\n",
    "df['Categoria'] = df['Categoria'].astype('category')\n",
    "\n",
    "# Salvando o dataframe limpo em um arquivo csv\n",
    "df.to_csv('data_clean.csv', index=False)\n",
    "\n",
    "#mostra o dataframe limpo\n",
    "df.head()"
   ],
   "id": "c1e3bd6007f934e2",
   "outputs": [
    {
     "data": {
      "text/plain": [
       "   ID       Data    Produto    Categoria  Quantidade  Preço\n",
       "0   0 2023-01-29  Produto A  Categoria 1           3  42.50\n",
       "1   1 2023-12-09  Produto C  Categoria 2          20  64.53\n",
       "2   2 2023-10-25  Produto D  Categoria 2           6  67.46\n",
       "3   3 2023-10-06  Produto E  Categoria 3          15  34.14\n",
       "4   4 2023-01-15  Produto D  Categoria 2          12  93.87"
      ],
      "text/html": [
       "<div>\n",
       "<style scoped>\n",
       "    .dataframe tbody tr th:only-of-type {\n",
       "        vertical-align: middle;\n",
       "    }\n",
       "\n",
       "    .dataframe tbody tr th {\n",
       "        vertical-align: top;\n",
       "    }\n",
       "\n",
       "    .dataframe thead th {\n",
       "        text-align: right;\n",
       "    }\n",
       "</style>\n",
       "<table border=\"1\" class=\"dataframe\">\n",
       "  <thead>\n",
       "    <tr style=\"text-align: right;\">\n",
       "      <th></th>\n",
       "      <th>ID</th>\n",
       "      <th>Data</th>\n",
       "      <th>Produto</th>\n",
       "      <th>Categoria</th>\n",
       "      <th>Quantidade</th>\n",
       "      <th>Preço</th>\n",
       "    </tr>\n",
       "  </thead>\n",
       "  <tbody>\n",
       "    <tr>\n",
       "      <th>0</th>\n",
       "      <td>0</td>\n",
       "      <td>2023-01-29</td>\n",
       "      <td>Produto A</td>\n",
       "      <td>Categoria 1</td>\n",
       "      <td>3</td>\n",
       "      <td>42.50</td>\n",
       "    </tr>\n",
       "    <tr>\n",
       "      <th>1</th>\n",
       "      <td>1</td>\n",
       "      <td>2023-12-09</td>\n",
       "      <td>Produto C</td>\n",
       "      <td>Categoria 2</td>\n",
       "      <td>20</td>\n",
       "      <td>64.53</td>\n",
       "    </tr>\n",
       "    <tr>\n",
       "      <th>2</th>\n",
       "      <td>2</td>\n",
       "      <td>2023-10-25</td>\n",
       "      <td>Produto D</td>\n",
       "      <td>Categoria 2</td>\n",
       "      <td>6</td>\n",
       "      <td>67.46</td>\n",
       "    </tr>\n",
       "    <tr>\n",
       "      <th>3</th>\n",
       "      <td>3</td>\n",
       "      <td>2023-10-06</td>\n",
       "      <td>Produto E</td>\n",
       "      <td>Categoria 3</td>\n",
       "      <td>15</td>\n",
       "      <td>34.14</td>\n",
       "    </tr>\n",
       "    <tr>\n",
       "      <th>4</th>\n",
       "      <td>4</td>\n",
       "      <td>2023-01-15</td>\n",
       "      <td>Produto D</td>\n",
       "      <td>Categoria 2</td>\n",
       "      <td>12</td>\n",
       "      <td>93.87</td>\n",
       "    </tr>\n",
       "  </tbody>\n",
       "</table>\n",
       "</div>"
      ]
     },
     "execution_count": 5,
     "metadata": {},
     "output_type": "execute_result"
    }
   ],
   "execution_count": 5
  },
  {
   "metadata": {},
   "cell_type": "markdown",
   "source": [
    "## 2. Análise Descritiva\n",
    "- Estatísticas descritivas: Resumo das estatísticas principais dos dados.\n",
    "- Distribuições de vendas por mês: Análise das vendas mensais."
   ],
   "id": "7ab1b46930bdc455"
  },
  {
   "metadata": {
    "ExecuteTime": {
     "end_time": "2024-11-24T13:38:53.614245Z",
     "start_time": "2024-11-24T13:38:53.577501Z"
    }
   },
   "cell_type": "code",
   "source": [
    "# Estatísticas descritivas\n",
    "estatisticas_descritivas = df.describe()\n",
    "print(estatisticas_descritivas)"
   ],
   "id": "d635e63855f1be76",
   "outputs": [
    {
     "name": "stdout",
     "output_type": "stream",
     "text": [
      "               ID                           Data  Quantidade       Preço\n",
      "count  498.000000                            498  498.000000  498.000000\n",
      "mean   250.441767  2023-07-06 17:26:44.819277056   12.755020   53.017646\n",
      "min      0.000000            2023-01-01 00:00:00    1.000000   10.140000\n",
      "25%    126.250000            2023-04-04 00:00:00    6.000000   31.932500\n",
      "50%    250.500000            2023-07-04 12:00:00   12.000000   51.095000\n",
      "75%    374.750000            2023-10-13 00:00:00   18.000000   73.730000\n",
      "max    499.000000            2023-12-31 00:00:00   40.000000   99.880000\n",
      "std    144.001473                            NaN    8.450842   25.315847\n"
     ]
    }
   ],
   "execution_count": 6
  },
  {
   "metadata": {
    "ExecuteTime": {
     "end_time": "2024-11-24T13:38:54.643829Z",
     "start_time": "2024-11-24T13:38:53.908057Z"
    }
   },
   "cell_type": "code",
   "source": [
    "# Adicionando colunas para ano e mês\n",
    "df['Mes'] = df['Data'].dt.month\n",
    "\n",
    "#total de vendas por produto\n",
    "df['Total_vendas'] = df['Quantidade'] * df['Preço']\n",
    "\n",
    "# Total de vendas por mês\n",
    "vendas_mes = df.groupby('Mes')['Total_vendas'].sum().reset_index()\n",
    "\n",
    "# Gráfico de linhas mostrando a tendência de vendas ao longo do tempo\n",
    "sns.lineplot(data=vendas_mes, x='Mes', y='Total_vendas', marker='o')\n",
    "plt.title('Tendência de Vendas Mensais em 2023')\n",
    "plt.xlabel('Mês')\n",
    "plt.ylabel('Total de Vendas')\n",
    "plt.ylim(0) # Garantir que o eixo y comece em 0, pois pode distorcer a visualização\n",
    "plt.grid(True) # Adicionar grade para facilitar a leitura\n",
    "plt.show()"
   ],
   "id": "17f3451bab712024",
   "outputs": [
    {
     "data": {
      "text/plain": [
       "<Figure size 640x480 with 1 Axes>"
      ],
      "image/png": "[encoded data removed]"
     },
     "metadata": {},
     "output_type": "display_data"
    }
   ],
   "execution_count": 7
  },
  {
   "metadata": {},
   "cell_type": "markdown",
   "source": [
    "## Análise de Categorias de Produtos\n",
    "- Vendas por categoria: Identificação das categorias mais vendidas.\n",
    "- Produtos mais vendidos: Listagem dos produtos mais populares."
   ],
   "id": "ceb1452bed8fb739"
  },
  {
   "metadata": {
    "ExecuteTime": {
     "end_time": "2024-11-24T13:38:55.237895Z",
     "start_time": "2024-11-24T13:38:54.724185Z"
    }
   },
   "cell_type": "code",
   "source": [
    "# Agrupando as vendas por categoria\n",
    "vendas_categoria = df.groupby('Categoria', observed=False)['Total_vendas'].sum().reset_index()\n",
    "\n",
    "# Ordenando as categorias pelo total de vendas\n",
    "vendas_categoria = vendas_categoria.sort_values(by='Total_vendas', ascending=False)\n",
    "\n",
    "# Plotando as vendas por categoria com ajustes no palette\n",
    "plt.figure(figsize=(12, 6))\n",
    "sns.barplot(data=vendas_categoria, x='Categoria', y='Total_vendas', hue='Categoria', palette='viridis', legend=False)\n",
    "plt.title('Vendas por Categoria de Produtos')\n",
    "plt.xlabel('Categoria')\n",
    "plt.ylabel('Total de Vendas')\n",
    "plt.xticks(rotation=45)\n",
    "plt.show()\n"
   ],
   "id": "2d098686542b5847",
   "outputs": [
    {
     "data": {
      "text/plain": [
       "<Figure size 1200x600 with 1 Axes>"
      ],
      "image/png": "[encoded data removed]"
     },
     "metadata": {},
     "output_type": "display_data"
    }
   ],
   "execution_count": 8
  },
  {
   "metadata": {
    "ExecuteTime": {
     "end_time": "2024-11-24T13:38:55.300537Z",
     "start_time": "2024-11-24T13:38:55.290161Z"
    }
   },
   "cell_type": "code",
   "source": [
    "#agrupamento por produto, somando as vendas e ordenando pela maior venda para localizar o produto com maior e menor venda\n",
    "tot_vendas_prod = df.groupby('Produto')['Total_vendas'].sum().sort_values(ascending=False)\n",
    "\n",
    "#produto com maior venda\n",
    "prod_mais_vendido = tot_vendas_prod.index[0]\n",
    "qtd_maior_venda = tot_vendas_prod.iloc[0]\n",
    "\n",
    "print(f\"O produto mais vendido foi o {prod_mais_vendido}, com um total de vendas de R${qtd_maior_venda:.2f}\")"
   ],
   "id": "88d373dc22d11dac",
   "outputs": [
    {
     "name": "stdout",
     "output_type": "stream",
     "text": [
      "O produto mais vendido foi o Produto E, com um total de vendas de R$66998.40\n"
     ]
    }
   ],
   "execution_count": 9
  },
  {
   "metadata": {},
   "cell_type": "markdown",
   "source": "### padrões e insights",
   "id": "a873e3b7c3ac2bdc"
  },
  {
   "metadata": {
    "ExecuteTime": {
     "end_time": "2024-11-24T13:38:55.443506Z",
     "start_time": "2024-11-24T13:38:55.432109Z"
    }
   },
   "cell_type": "code",
   "source": [
    "# ordenando os dados para identificar o mês de maior e menor vendas\n",
    "vendas_mes = vendas_mes.sort_values('Total_vendas',ascending = False)\n",
    "\n",
    "# mes de menos venda\n",
    "mes_menor_venda = vendas_mes['Mes'].iloc[-1]\n",
    "tot_vendas_menor_mes = vendas_mes['Total_vendas'].iloc[-1]\n",
    "# mes de mais venda\n",
    "mes_maio_venda = vendas_mes['Mes'].iloc[0]\n",
    "tot_vendas_maior_mes = vendas_mes['Total_vendas'].iloc[0]\n",
    "\n",
    "print(f\"O mês com menor volume de vendas foi o mês {mes_menor_venda}, com um total de vendas de R${tot_vendas_menor_mes:.2f}\")\n",
    "print(f\"O mês com maior volume de vendas foi o mês {mes_maio_venda}, com um total de vendas de R${tot_vendas_maior_mes:.2f}\")"
   ],
   "id": "c36b8a8a78a7e4b3",
   "outputs": [
    {
     "name": "stdout",
     "output_type": "stream",
     "text": [
      "O mês com menor volume de vendas foi o mês 4, com um total de vendas de R$16155.82\n",
      "O mês com maior volume de vendas foi o mês 11, com um total de vendas de R$56441.68\n"
     ]
    }
   ],
   "execution_count": 10
  },
  {
   "metadata": {},
   "cell_type": "markdown",
   "source": [
    "## Insights e Padrões Observados\n",
    "\n",
    "\n",
    "\n",
    "##### Insight 1: Mês com o Maior Número de Vendas\n",
    "- **Mês:** Novembro\n",
    "- **Total de Vendas:** R$56441.68\n",
    "\n",
    "**Análise:**\n",
    "- O aumento das vendas em novembro sugere que as campanhas de marketing, como a Black Friday, são extremamente eficazes. Além disso, as festas de fim de ano aumentam o consumo dos produtos de categoria 3, o que indica que a empresa deve focar em estratégias específicas para esses períodos e produtos.\n",
    "---\n",
    "##### Insight 2: Mês com o Menor Número de Vendas\n",
    "- **Mês:** Abril\n",
    "- **Total de Vendas:** R$16155.82\n",
    "\n",
    "**Análise:**\n",
    "- A queda das vendas em abril pode ser um indicador de sazonalidade negativa. Investir em promoções específicas para essa época ou introduzir novos produtos sazonais pode ajudar a aumentar as vendas nesse período."
   ],
   "id": "f5121aafc5bb5969"
  }
 ],
 "metadata": {
  "kernelspec": {
   "display_name": "Python 3",
   "language": "python",
   "name": "python3"
  },
  "language_info": {
   "codemirror_mode": {
    "name": "ipython",
    "version": 2
   },
   "file_extension": ".py",
   "mimetype": "text/x-python",
   "name": "python",
   "nbconvert_exporter": "python",
   "pygments_lexer": "ipython2",
   "version": "2.7.6"
  }
 },
 "nbformat": 4,
 "nbformat_minor": 5
}
